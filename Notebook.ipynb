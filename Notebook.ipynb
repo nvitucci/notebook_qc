{
 "cells": [
  {
   "cell_type": "markdown",
   "metadata": {},
   "source": [
    "# Circuit for state preparation\n",
    "\n",
    "We want to create a circuit that produces the Bell state $\\vert\\Phi^+\\rangle = \\dfrac{\\vert00\\rangle + \\vert11\\rangle}{\\sqrt 2}$. We already know that this state can be produced by a circuit containing a Hadamard gate on the first qubit followed by a CNOT gate [[1](https://en.wikipedia.org/wiki/Bell_state#Creating_Bell_states)], but we would like to replace the Hadamard gate with rotation gates.\n",
    "\n",
    "In the following we will use [PennyLane](https://pennylane.readthedocs.io/), a cross-platform Python library for quantum machine learning, because it abstracts away several implementation details (especially when it comes to using different quantum simulators and frameworks such as pyQuil/Forest). PennyLane ships with its own version of NumPy, enriched to include [automatic differentiation](https://en.wikipedia.org/wiki/Automatic_differentiation) - which lets the gradients on the circuits be computed in a more efficient way using clever transformations. I will also highlight my contributions to the library: the `SquaredErrorLoss` class.\n",
    "\n",
    "Please read the README.md file to prepare the environment in order to execute this notebook."
   ]
  },
  {
   "cell_type": "markdown",
   "metadata": {},
   "source": [
    "### Importing the library"
   ]
  },
  {
   "cell_type": "code",
   "execution_count": 1,
   "metadata": {},
   "outputs": [],
   "source": [
    "import pennylane as qml\n",
    "\n",
    "from pennylane import numpy as np\n",
    "from pennylane.qnn.cost import SquaredErrorLoss"
   ]
  },
  {
   "cell_type": "markdown",
   "metadata": {},
   "source": [
    "### Circuit definition\n",
    "\n",
    "First of all, we create the \"ansatz\" circuit. By doing this we can reuse the same configuration in different circuits, for instance if all we want to change is the measurement.\n",
    "\n",
    "Since we want to tackle the general case, we put both kinds of the allowed rotation gates on both qubits; then, we also add a CNOT gate. We will therefore have 4 different parameters, each corresponding to a different angle."
   ]
  },
  {
   "cell_type": "code",
   "execution_count": 2,
   "metadata": {},
   "outputs": [],
   "source": [
    "def circuit(angles, **kwargs):\n",
    "    qml.RX(angles[0], wires=0)\n",
    "    qml.RY(angles[1], wires=0)\n",
    "\n",
    "    qml.RX(angles[2], wires=1)\n",
    "    qml.RY(angles[3], wires=1)\n",
    "\n",
    "    qml.CNOT(wires=[0, 1])"
   ]
  },
  {
   "cell_type": "markdown",
   "metadata": {},
   "source": [
    "In order to create a circuit, we need to include a _device_ and a _measurement_. For starting out we can use PennyLane's \"default qubit\" device, which can simulate a real quantum device with any number of wires; see the last section for a list of possible devices. We set `analytic=False` and `shots=1000` to simulate a more realistic device."
   ]
  },
  {
   "cell_type": "code",
   "execution_count": 3,
   "metadata": {},
   "outputs": [],
   "source": [
    "dev = qml.device('default.qubit', wires=2, analytic=False, shots=1000)\n",
    "\n",
    "# For QVM simulation (needs `qvm` and `quilc`, see README)\n",
    "# dev = qml.device('forest.qvm', device='Aspen-8', shots=100, noisy=True)\n",
    "\n",
    "# For a real QPU\n",
    "# dev = qml.device('forest.qpu', device='Aspen-8', shots=100)\n",
    "\n",
    "# For a list of all the devices supported by the Forest SDK:\n",
    "#\n",
    "# from pyquil import list_quantum_computers\n",
    "# sorted(list_quantum_computers())\n",
    "\n",
    "# To check the capabilities of a device:\n",
    "#\n",
    "# dev.capabilities()"
   ]
  },
  {
   "cell_type": "markdown",
   "metadata": {},
   "source": [
    "Then, we create a list with one `PauliZ` _observable_ that we will use for the measurement."
   ]
  },
  {
   "cell_type": "code",
   "execution_count": 4,
   "metadata": {},
   "outputs": [],
   "source": [
    "observables = [qml.PauliZ(0)]"
   ]
  },
  {
   "cell_type": "markdown",
   "metadata": {},
   "source": [
    "Now we can initialize some parameters (the gates' angles) and \"execute\" the circuit, using the expectation value of the observables as a measurement. The `measure` argument default for `qml.map` is already `'expval'`, so here it is added just for clarity."
   ]
  },
  {
   "cell_type": "code",
   "execution_count": 5,
   "metadata": {},
   "outputs": [
    {
     "name": "stdout",
     "output_type": "stream",
     "text": [
      "[0.64]\n"
     ]
    }
   ],
   "source": [
    "params = [0.2, 0.8, 0.4, 0.1]\n",
    "qnode = qml.map(circuit, observables, dev, measure='expval')\n",
    "print(qnode(params))"
   ]
  },
  {
   "cell_type": "markdown",
   "metadata": {},
   "source": [
    "The problem of measuring only one qubit is that, in our case where we have an entangled state, such measurement would affect the other qubit as well by \"assigning\" it the same value. For this reason, we need to measure the 2 qubits together instead.\n",
    "\n",
    "We can use different combinations of observables:\n",
    "\n",
    "- combined observables: `[qml.PauliZ(0), qml.PauliZ(1)]` (returns two values);\n",
    "- tensor product observables: `[qml.PauliZ(0) @ qml.PauliZ(1)]` (returns one value);\n",
    "- generic Hermitian observables: `[qml.Hermitian(observable, wires=[0, 1])]` (returns one value).\n",
    "\n",
    "The latter is the most flexible, and since it is supported not only by [PennyLane](https://pennylane.readthedocs.io/en/stable/code/api/pennylane.Hermitian.html) but also by other frameworks (e.g. [Forest](http://docs.rigetti.com/en/stable/apidocs/pauli.html#pyquil.paulis.PauliSum) supports sums of Pauli operators, and [Qiskit](https://qiskit.org/textbook/ch-gates/fun-matrices.html#Pauli-decomposition) explains how to do it), we can make use of it.\n",
    "\n",
    "We start with defining our target state $\\vert\\psi\\rangle = \\dfrac{1}{\\sqrt 2} \\left[\\begin{matrix}1\\\\0\\\\0\\\\1\\end{matrix}\\right]$:"
   ]
  },
  {
   "cell_type": "code",
   "execution_count": 6,
   "metadata": {},
   "outputs": [],
   "source": [
    "psi = 1. / np.sqrt(2) * np.array([[1, 0, 0, 1]]).T"
   ]
  },
  {
   "cell_type": "markdown",
   "metadata": {},
   "source": [
    "Now let's construct the observable as the outer product $O = \\vert\\psi\\rangle \\langle\\psi\\vert$ of the state with itself: "
   ]
  },
  {
   "cell_type": "code",
   "execution_count": 7,
   "metadata": {},
   "outputs": [
    {
     "name": "stdout",
     "output_type": "stream",
     "text": [
      "[[0.5 0.  0.  0.5]\n",
      " [0.  0.  0.  0. ]\n",
      " [0.  0.  0.  0. ]\n",
      " [0.5 0.  0.  0.5]]\n"
     ]
    }
   ],
   "source": [
    "obs = psi @ psi.conj().T\n",
    "print(obs)"
   ]
  },
  {
   "cell_type": "markdown",
   "metadata": {},
   "source": [
    "Why do we \"like\" this matrix? Because, when used for measurements, it will \"boost\" the states that have close values for their first and last element. This matrix is actually the projector onto the \\$\\psi\\$ state with eigenvalues 0 and 1. "
   ]
  },
  {
   "cell_type": "code",
   "execution_count": 8,
   "metadata": {},
   "outputs": [
    {
     "name": "stdout",
     "output_type": "stream",
     "text": [
      "[1. 0. 0. 0.]\n"
     ]
    }
   ],
   "source": [
    "eigenvalues, eigenvectors = np.linalg.eig(obs)\n",
    "print(eigenvalues)"
   ]
  },
  {
   "cell_type": "markdown",
   "metadata": {},
   "source": [
    "The eigenstate corresponding to the eigenvalue 1 is our desired state:"
   ]
  },
  {
   "cell_type": "code",
   "execution_count": 9,
   "metadata": {},
   "outputs": [
    {
     "name": "stdout",
     "output_type": "stream",
     "text": [
      "[[0.70710678]\n",
      " [0.        ]\n",
      " [0.        ]\n",
      " [0.70710678]]\n",
      "True\n"
     ]
    }
   ],
   "source": [
    "eig_1 = np.array([eigenvectors[:, 0]]).T\n",
    "print(eig_1)\n",
    "print(np.allclose(eig_1, psi))"
   ]
  },
  {
   "cell_type": "markdown",
   "metadata": {},
   "source": [
    "Therefore, we need to optimize its expectation value to be 1. In fact, we have that obviously $\\langle\\psi\\vert O \\vert\\psi\\rangle = 1$:"
   ]
  },
  {
   "cell_type": "code",
   "execution_count": 10,
   "metadata": {},
   "outputs": [
    {
     "name": "stdout",
     "output_type": "stream",
     "text": [
      "[[1.]]\n"
     ]
    }
   ],
   "source": [
    "print(psi.T @ obs @ psi)"
   ]
  },
  {
   "cell_type": "markdown",
   "metadata": {},
   "source": [
    "and a vector $\\tilde\\psi$ close to $\\psi$ will have a measurement close to 1:"
   ]
  },
  {
   "cell_type": "code",
   "execution_count": 11,
   "metadata": {},
   "outputs": [
    {
     "name": "stdout",
     "output_type": "stream",
     "text": [
      "[[0.99717357]]\n"
     ]
    }
   ],
   "source": [
    "psi_tilde = psi - 0.001\n",
    "\n",
    "# For normalization\n",
    "psi_tilde[1:3] = np.sqrt(0.5 - psi_tilde[0] ** 2)\n",
    "assert np.allclose(np.linalg.norm(psi_tilde), 1.0)\n",
    "\n",
    "print(psi_tilde.T @ obs @ psi_tilde)"
   ]
  },
  {
   "cell_type": "markdown",
   "metadata": {},
   "source": [
    "Let's also verify whether the observable matrix is Hermitian by checking that it is equal to its own adjunct, i.e. $M = M^\\dagger$:"
   ]
  },
  {
   "cell_type": "code",
   "execution_count": 12,
   "metadata": {},
   "outputs": [
    {
     "name": "stdout",
     "output_type": "stream",
     "text": [
      "True\n"
     ]
    }
   ],
   "source": [
    "print(np.allclose(obs, obs.conj().T))"
   ]
  },
  {
   "cell_type": "markdown",
   "metadata": {},
   "source": [
    "We can also check whether the matrix can be decomposed as a linear combination of Pauli operators tensor products:\n",
    "\n",
    "$O = \\dfrac{1}{4}((I \\otimes I) + (X \\otimes X) - (Y \\otimes Y) + (Z \\otimes Z))$\n",
    "\n",
    "This step has to be performed manually, but my contribution for a decomposition method is [in progress](https://github.com/XanaduAI/pennylane/pull/671)."
   ]
  },
  {
   "cell_type": "code",
   "execution_count": 13,
   "metadata": {},
   "outputs": [
    {
     "name": "stdout",
     "output_type": "stream",
     "text": [
      "True\n"
     ]
    }
   ],
   "source": [
    "# Manually-defined Pauli operators. They can also be derived from PennyLane observables,\n",
    "# e.g. PauliX = qml.PauliX(0).matrix\n",
    "\n",
    "identity = np.eye(2)\n",
    "pauliX = np.array([[0, 1], [1, 0]])\n",
    "pauliY = np.array([[0, -1j], [1j, 0]])\n",
    "pauliZ = np.array([[1, 0], [0, -1]])\n",
    "\n",
    "decomp = 0.25 * np.sum([\n",
    "    np.kron(identity, identity),\n",
    "    np.kron(pauliX, pauliX),\n",
    "    -np.kron(pauliY, pauliY),\n",
    "    np.kron(pauliZ, pauliZ)\n",
    "], axis=0)\n",
    "\n",
    "# Is the decomposed matrix the same as the observable matrix we created before?\n",
    "print(np.allclose(obs, decomp))"
   ]
  },
  {
   "cell_type": "markdown",
   "metadata": {},
   "source": [
    "Now we are ready to run the circuit again using the new observable:"
   ]
  },
  {
   "cell_type": "code",
   "execution_count": 14,
   "metadata": {},
   "outputs": [
    {
     "name": "stdout",
     "output_type": "stream",
     "text": [
      "[0.826]\n"
     ]
    }
   ],
   "source": [
    "observables = [qml.Hermitian(obs, wires=[0, 1])]\n",
    "\n",
    "qnode = qml.map(circuit, observables, dev, measure='expval')\n",
    "print(qnode(params))"
   ]
  },
  {
   "cell_type": "markdown",
   "metadata": {},
   "source": [
    "### Optimization\n",
    "\n",
    "Since the circuit optimization has to be performed via gradient descent, we need first of all a good choice for the initial parameters. We can try a few different ones, including:\n",
    "\n",
    "- all parameters = 0;\n",
    "- all parameters randomly chosen;\n",
    "- parameters initialized to some chosen \"sensible\" defaults."
   ]
  },
  {
   "cell_type": "code",
   "execution_count": 15,
   "metadata": {},
   "outputs": [],
   "source": [
    "params_init_method = 'chosen'\n",
    "\n",
    "if params_init_method == 'zero':\n",
    "    params = np.array([0.] * 4)\n",
    "elif params_init_method == 'random':\n",
    "    import random\n",
    "    \n",
    "    random.seed(0)\n",
    "    params = np.random.normal(0., np.pi, 4)\n",
    "elif params_init_method == 'chosen':\n",
    "    params = np.array([np.pi / 4] * 4)\n",
    "else:\n",
    "    raise ValueError('{} initialization method does not exist'.format(weight_init_method))"
   ]
  },
  {
   "cell_type": "markdown",
   "metadata": {},
   "source": [
    "Then, we need to decide how many optimization steps we will run:"
   ]
  },
  {
   "cell_type": "code",
   "execution_count": 16,
   "metadata": {},
   "outputs": [],
   "source": [
    "steps = 1000"
   ]
  },
  {
   "cell_type": "markdown",
   "metadata": {},
   "source": [
    "We also create an additional array that will collect the learned parameters per round:"
   ]
  },
  {
   "cell_type": "code",
   "execution_count": 17,
   "metadata": {},
   "outputs": [],
   "source": [
    "params_history = np.zeros((4, steps))"
   ]
  },
  {
   "cell_type": "markdown",
   "metadata": {},
   "source": [
    "We define the cost function as the square of the difference between the value of the observable (which can be between 0 and 1) and 1; this means that the closer the observable gets to one, the smaller the cost becomes.\n",
    "\n",
    "My contribution is the `SquaredErrorLoss` class, which gives an easy way to calculate the loss given a target."
   ]
  },
  {
   "cell_type": "code",
   "execution_count": 18,
   "metadata": {},
   "outputs": [],
   "source": [
    "loss = SquaredErrorLoss(circuit, observables, dev)\n",
    "\n",
    "def cost(params):\n",
    "    return loss(params, target=[1])"
   ]
  },
  {
   "cell_type": "markdown",
   "metadata": {},
   "source": [
    "Finally, we define the optimizer that we will use in the optimization process. We can start with the simplest `qml.GradientDescentOptimizer`, and optionally try a more advanced optimizer such as `qml.AdamOptimizer`:"
   ]
  },
  {
   "cell_type": "code",
   "execution_count": 19,
   "metadata": {},
   "outputs": [],
   "source": [
    "# opt = qml.GradientDescentOptimizer(stepsize=0.1)\n",
    "opt = qml.AdamOptimizer(stepsize=0.1)"
   ]
  },
  {
   "cell_type": "markdown",
   "metadata": {},
   "source": [
    "We are ready to kick off the experiments! It might take a while with the default parameters :)"
   ]
  },
  {
   "cell_type": "code",
   "execution_count": 20,
   "metadata": {},
   "outputs": [
    {
     "name": "stdout",
     "output_type": "stream",
     "text": [
      "\tCost after step    0:  0.1398760 ([0.68539817 0.88539816 0.68539817 0.68539817])\n",
      "\tCost after step   50:  0.0000010 ([-0.03776934  1.62577473 -0.02149183 -0.04726613])\n",
      "\tCost after step  100:  0.0000000 ([-0.04245404  1.62918014 -0.02707305 -0.05137498])\n",
      "\tCost after step  150:  0.0000000 ([-0.03873414  1.62482508 -0.02508645 -0.04652128])\n",
      "\tCost after step  200:  0.0000090 ([-0.03485561  1.61947631 -0.02316329 -0.04096487])\n",
      "\tCost after step  250:  0.0000000 ([-0.03102943  1.613822   -0.02086662 -0.03551349])\n",
      "\tCost after step  300:  0.0000000 ([-0.02742896  1.60950128 -0.01846538 -0.03136043])\n",
      "\tCost after step  350:  0.0000090 ([-0.02465909  1.60565149 -0.01685672 -0.02777772])\n",
      "\tCost after step  400:  0.0000000 ([-0.02161229  1.59999804 -0.01448933 -0.02322485])\n",
      "\tCost after step  450:  0.0000000 ([-0.01843626  1.59640179 -0.01266244 -0.02123892])\n",
      "\tCost after step  500:  0.0000000 ([-0.01535077  1.59324174 -0.01103415 -0.01860938])\n",
      "\tCost after step  550:  0.0000000 ([-0.01415444  1.58937442 -0.00912319 -0.01775383])\n",
      "\tCost after step  600:  0.0000000 ([-0.01119871  1.58612928 -0.00720683 -0.01392542])\n",
      "\tCost after step  650:  0.0000010 ([-0.0107955   1.58534416 -0.00603059 -0.01297226])\n",
      "\tCost after step  700:  0.0000000 ([-0.0093481   1.58345766 -0.00529726 -0.01028264])\n",
      "\tCost after step  750:  0.0000000 ([-0.00782314  1.58083889 -0.00665525 -0.01088572])\n",
      "\tCost after step  800:  0.0000000 ([-0.00642479  1.58022193 -0.0065171  -0.0109629 ])\n",
      "\tCost after step  850:  0.0000000 ([-0.00640125  1.57941452 -0.00556919 -0.00914926])\n",
      "\tCost after step  900:  0.0000000 ([-0.00588808  1.5784099  -0.00346752 -0.00833415])\n",
      "\tCost after step  950:  0.0000000 ([-8.44988750e-03  1.58040313e+00 -1.11427791e-03 -5.95791113e-03])\n",
      "\tCost after step 1000:  0.0000000 ([-8.67739008e-03  1.58189202e+00  1.64592978e-04 -3.16185536e-03])\n",
      "Optimized parameters: [-8.67739008e-03  1.58189202e+00  1.64592978e-04 -3.16185536e-03]\n",
      "Result: [1.]\n",
      "Output state: [ 0.703-0.003j -0.001-0.j    -0.001-0.j     0.711+0.003j]\n"
     ]
    }
   ],
   "source": [
    "for i in range(steps):\n",
    "    params = opt.step(cost, params)\n",
    "\n",
    "    if i == 0:\n",
    "        print(f'\\tCost after step {i:4d}: {cost(params)[0]: .7f} ({params})')\n",
    "    elif (i + 1) % 50 == 0:\n",
    "        print(f'\\tCost after step {i+1:4d}: {cost(params)[0]: .7f} ({params})')\n",
    "\n",
    "    params_history[:, i] = params\n",
    "\n",
    "result = qml.map(circuit, observables, dev)(params)\n",
    "\n",
    "print('Optimized parameters: {}'.format(params))\n",
    "print('Result: {}'.format(result))\n",
    "\n",
    "try:\n",
    "    print('Output state: {}'.format(np.round(dev.state, decimals=3)))\n",
    "except NotImplementedError:\n",
    "    print('Cannot see state when using device ' + dev.name)"
   ]
  },
  {
   "cell_type": "markdown",
   "metadata": {},
   "source": [
    "### Evaluation\n",
    "\n",
    "Let's check the results of the last step of the last optimization:"
   ]
  },
  {
   "cell_type": "code",
   "execution_count": 21,
   "metadata": {},
   "outputs": [
    {
     "name": "stdout",
     "output_type": "stream",
     "text": [
      "[-8.67739008e-03  1.58189202e+00  1.64592978e-04 -3.16185536e-03]\n"
     ]
    }
   ],
   "source": [
    "print(params_history[:, -1])"
   ]
  },
  {
   "cell_type": "markdown",
   "metadata": {},
   "source": [
    "We can see that each row shows values around $\\left[\\begin{matrix}0&\\dfrac{\\pi}{2}&0&0\\end{matrix}\\right]$, corresponding to the following rotations:\n",
    "\n",
    "- $R_x(\\phi) = \\left[\\begin{matrix}cos(\\phi/2)&-i sin(\\phi/2)\\\\-i sin(\\phi/2)&cos(\\phi/2)\\end{matrix}\\right] \\implies R_x(0) = \\left[\\begin{matrix}1&0\\\\0&1\\end{matrix}\\right]$\n",
    "- $R_y(\\phi) = \\left[\\begin{matrix}cos(\\phi/2)&-sin(\\phi/2)\\\\sin(\\phi/2)&cos(\\phi/2)\\end{matrix}\\right] \\implies R_y(0) = \\left[\\begin{matrix}1&0\\\\0&1\\end{matrix}\\right], R_y(\\pi/2) = \\dfrac{1}{\\sqrt{2}}\\left[\\begin{matrix}1&-1\\\\1&1\\end{matrix}\\right]$"
   ]
  },
  {
   "cell_type": "markdown",
   "metadata": {},
   "source": [
    "This means that only a $\\dfrac{\\pi}{2}$ Y-rotation should be applied on the first qubit, while the second qubit should be left unchanged."
   ]
  },
  {
   "cell_type": "markdown",
   "metadata": {},
   "source": [
    "### Visualization\n",
    "\n",
    "In this section we will see the calculated values across runs for every parameter. We will plot the points using `matplotlib`."
   ]
  },
  {
   "cell_type": "code",
   "execution_count": 22,
   "metadata": {},
   "outputs": [],
   "source": [
    "import matplotlib.pyplot as plt\n",
    "%matplotlib inline"
   ]
  },
  {
   "cell_type": "code",
   "execution_count": 23,
   "metadata": {},
   "outputs": [
    {
     "data": {
      "text/plain": [
       "Text(0.5, 1.0, 'RY(1)')"
      ]
     },
     "execution_count": 23,
     "metadata": {},
     "output_type": "execute_result"
    },
    {
     "data": {
      "image/png": "[encoded data removed]",
      "text/plain": [
       "<Figure size 1080x1080 with 4 Axes>"
      ]
     },
     "metadata": {
      "needs_background": "light"
     },
     "output_type": "display_data"
    }
   ],
   "source": [
    "# TODO: can be simplified\n",
    "fig, axs = plt.subplots(2, 2, figsize=(15,15))\n",
    "\n",
    "axs[0, 0].plot(params_history[0, :])\n",
    "axs[0, 0].set_title('RX(0)')\n",
    "\n",
    "axs[0, 1].plot(params_history[1, :])\n",
    "axs[0, 1].set_title('RY(0)')\n",
    "\n",
    "axs[1, 0].plot(params_history[2, :])\n",
    "axs[1, 0].set_title('RX(1)')    \n",
    "\n",
    "axs[1, 1].plot(params_history[3, :])\n",
    "axs[1, 1].set_title('RY(1)')"
   ]
  }
 ],
 "metadata": {
  "kernelspec": {
   "display_name": "Python 3",
   "language": "python",
   "name": "python3"
  },
  "language_info": {
   "codemirror_mode": {
    "name": "ipython",
    "version": 3
   },
   "file_extension": ".py",
   "mimetype": "text/x-python",
   "name": "python",
   "nbconvert_exporter": "python",
   "pygments_lexer": "ipython3",
   "version": "3.7.7"
  }
 },
 "nbformat": 4,
 "nbformat_minor": 4
}
